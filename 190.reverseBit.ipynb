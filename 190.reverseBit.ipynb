{
 "cells": [
  {
   "cell_type": "code",
   "execution_count": 13,
   "id": "00d8eba3",
   "metadata": {},
   "outputs": [],
   "source": [
    "def reverseBit(n:int) -> int:\n",
    "    num_bin = bin(n)[2:]\n",
    "    if len(num_bin)<32:\n",
    "        num_bin=''.join(['0']*(32-len(num_bin)))+num_bin\n",
    "    return int(num_bin[::-1], 2)"
   ]
  },
  {
   "cell_type": "code",
   "execution_count": 15,
   "id": "0ee33964",
   "metadata": {},
   "outputs": [
    {
     "data": {
      "text/plain": [
       "1073741822"
      ]
     },
     "execution_count": 15,
     "metadata": {},
     "output_type": "execute_result"
    }
   ],
   "source": [
    "reverseBit(2147483644)"
   ]
  },
  {
   "cell_type": "code",
   "execution_count": null,
   "id": "9d43b5d6",
   "metadata": {},
   "outputs": [],
   "source": []
  }
 ],
 "metadata": {
  "kernelspec": {
   "display_name": "Python 3",
   "language": "python",
   "name": "python3"
  },
  "language_info": {
   "codemirror_mode": {
    "name": "ipython",
    "version": 3
   },
   "file_extension": ".py",
   "mimetype": "text/x-python",
   "name": "python",
   "nbconvert_exporter": "python",
   "pygments_lexer": "ipython3",
   "version": "3.11.9"
  }
 },
 "nbformat": 4,
 "nbformat_minor": 5
}
