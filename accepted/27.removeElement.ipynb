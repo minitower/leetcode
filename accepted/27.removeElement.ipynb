{
 "cells": [
  {
   "cell_type": "code",
   "execution_count": null,
   "id": "4d2f1829",
   "metadata": {},
   "outputs": [],
   "source": [
    "def removeElement(nums: list, val: int) -> int:\n",
    "    k=0\n",
    "    for i in range(len(nums)):\n",
    "        if nums[k] == val:\n",
    "            nums.pop(k)\n",
    "        else:\n",
    "            k+=1\n",
    "    return k, nums"
   ]
  },
  {
   "cell_type": "code",
   "execution_count": 31,
   "id": "6a4f981a",
   "metadata": {},
   "outputs": [
    {
     "data": {
      "text/plain": [
       "(5, [0, 1, 3, 0, 4])"
      ]
     },
     "execution_count": 31,
     "metadata": {},
     "output_type": "execute_result"
    }
   ],
   "source": [
    "removeElement([0,1,2,2,3,0,4,2], 2)"
   ]
  },
  {
   "cell_type": "code",
   "execution_count": null,
   "id": "86895ff1",
   "metadata": {},
   "outputs": [],
   "source": []
  }
 ],
 "metadata": {
  "kernelspec": {
   "display_name": "Python 3",
   "language": "python",
   "name": "python3"
  },
  "language_info": {
   "codemirror_mode": {
    "name": "ipython",
    "version": 3
   },
   "file_extension": ".py",
   "mimetype": "text/x-python",
   "name": "python",
   "nbconvert_exporter": "python",
   "pygments_lexer": "ipython3",
   "version": "3.11.9"
  }
 },
 "nbformat": 4,
 "nbformat_minor": 5
}
