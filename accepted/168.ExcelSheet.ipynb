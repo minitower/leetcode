{
 "cells": [
  {
   "cell_type": "code",
   "execution_count": 73,
   "id": "e2ee2414",
   "metadata": {},
   "outputs": [],
   "source": [
    "def convertToTitle(columnNumber:int) -> str:\n",
    "    columnNumber-=1\n",
    "    dmod = divmod(columnNumber, 26)\n",
    "    if dmod[0]>0:\n",
    "        return convertToTitle(columnNumber=dmod[0])+chr(dmod[1]+65)\n",
    "    else:\n",
    "        return chr(columnNumber+65)"
   ]
  },
  {
   "cell_type": "code",
   "execution_count": 74,
   "id": "60c68471",
   "metadata": {},
   "outputs": [
    {
     "data": {
      "text/plain": [
       "'AZ'"
      ]
     },
     "execution_count": 74,
     "metadata": {},
     "output_type": "execute_result"
    }
   ],
   "source": [
    "convertToTitle(columnNumber = 52)"
   ]
  },
  {
   "cell_type": "code",
   "execution_count": null,
   "id": "669ad05e",
   "metadata": {},
   "outputs": [],
   "source": []
  }
 ],
 "metadata": {
  "kernelspec": {
   "display_name": "Python 3",
   "language": "python",
   "name": "python3"
  },
  "language_info": {
   "codemirror_mode": {
    "name": "ipython",
    "version": 3
   },
   "file_extension": ".py",
   "mimetype": "text/x-python",
   "name": "python",
   "nbconvert_exporter": "python",
   "pygments_lexer": "ipython3",
   "version": "3.11.9"
  }
 },
 "nbformat": 4,
 "nbformat_minor": 5
}
