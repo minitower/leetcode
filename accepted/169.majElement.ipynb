{
 "cells": [
  {
   "cell_type": "code",
   "execution_count": null,
   "id": "cd8b9628",
   "metadata": {},
   "outputs": [],
   "source": [
    "def majorityElement(nums:list) -> int:\n",
    "    for i in set(nums):\n",
    "        if nums.count(i)>len(nums)/2:\n",
    "            return i\n",
    "    return 0"
   ]
  }
 ],
 "metadata": {
  "language_info": {
   "name": "python"
  }
 },
 "nbformat": 4,
 "nbformat_minor": 5
}
