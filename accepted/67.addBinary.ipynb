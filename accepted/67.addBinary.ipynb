{
 "cells": [
  {
   "cell_type": "code",
   "execution_count": null,
   "id": "234bd633",
   "metadata": {},
   "outputs": [],
   "source": [
    "def addBinary(a: str, b: str) -> str:\n",
    "    # Выравниваем строки, добавляя нули слева к более короткой строке\n",
    "    max_len = max(len(a), len(b))\n",
    "    a = a.zfill(max_len)\n",
    "    b = b.zfill(max_len)\n",
    "    \n",
    "    carry = 0  # перенос\n",
    "    result = []\n",
    "    \n",
    "    # Идем справа налево\n",
    "    for i in range(max_len - 1, -1, -1):\n",
    "        # Преобразуем символы в числа\n",
    "        digit_a = int(a[i])\n",
    "        digit_b = int(b[i])\n",
    "        \n",
    "        # Суммируем биты и перенос\n",
    "        total = digit_a + digit_b + carry\n",
    "        \n",
    "        # Определяем текущий бит и перенос\n",
    "        current_bit = total % 2\n",
    "        carry = total // 2\n",
    "        \n",
    "        # Добавляем текущий бит в результат\n",
    "        result.append(str(current_bit))\n",
    "    \n",
    "    # Если остался перенос, добавляем его\n",
    "    if carry:\n",
    "        result.append('1')\n",
    "    \n",
    "    # Разворачиваем результат и объединяем в строку\n",
    "    return ''.join(result[::-1])"
   ]
  },
  {
   "cell_type": "code",
   "execution_count": 3,
   "id": "cc16dd0e",
   "metadata": {},
   "outputs": [
    {
     "name": "stdout",
     "output_type": "stream",
     "text": [
      "1\n",
      "2\n"
     ]
    }
   ],
   "source": [
    "addBinary(a = \"11\", b = \"1\")"
   ]
  }
 ],
 "metadata": {
  "kernelspec": {
   "display_name": "Python 3",
   "language": "python",
   "name": "python3"
  },
  "language_info": {
   "codemirror_mode": {
    "name": "ipython",
    "version": 3
   },
   "file_extension": ".py",
   "mimetype": "text/x-python",
   "name": "python",
   "nbconvert_exporter": "python",
   "pygments_lexer": "ipython3",
   "version": "3.11.9"
  }
 },
 "nbformat": 4,
 "nbformat_minor": 5
}
