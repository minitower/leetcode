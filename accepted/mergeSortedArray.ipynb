{
 "cells": [
  {
   "cell_type": "code",
   "execution_count": 48,
   "id": "1ce2e1a2",
   "metadata": {},
   "outputs": [],
   "source": [
    "def merge(nums1, m, nums2, n):\n",
    "    n1_insert=0\n",
    "    n2_insert=0\n",
    "    if m==0:\n",
    "        nums1=nums2.copy()\n",
    "    elif n==0:\n",
    "        return None\n",
    "    for _ in range(n+m):\n",
    "        print(nums1)\n",
    "        if nums1[n1_insert]<=nums2[n2_insert] and n1_insert<m:\n",
    "            n1_insert+=1\n",
    "        elif nums1[n1_insert]<=nums2[n2_insert] and n1_insert>=m:\n",
    "            n1_insert+=1\n",
    "            nums1.insert(n1_insert, nums2[n2_insert])\n",
    "            n2_insert+=1\n",
    "        else:\n",
    "            nums1.insert(n1_insert, nums2[n2_insert])\n",
    "            n2_insert+=1\n",
    "    nums1=nums1[:m+n]"
   ]
  },
  {
   "cell_type": "code",
   "execution_count": 47,
   "id": "359803a6",
   "metadata": {},
   "outputs": [
    {
     "name": "stdout",
     "output_type": "stream",
     "text": [
      "[1, 2, 3, 0, 0, 0]\n",
      "[1, 2, 3, 0, 0, 0]\n",
      "[1, 2, 3, 0, 0, 0]\n",
      "[1, 2, 2, 3, 0, 0, 0]\n",
      "[1, 2, 2, 3, 0, 0, 0]\n",
      "[1, 2, 2, 3, 5, 0, 0, 0]\n",
      "[1, 2, 2, 3, 5, 6, 0, 0, 0]\n"
     ]
    }
   ],
   "source": [
    "merge(nums1 = [1,2,3,0,0,0], m = 3, nums2 = [2,5,6], n = 3)"
   ]
  },
  {
   "cell_type": "code",
   "execution_count": null,
   "id": "e8928945",
   "metadata": {},
   "outputs": [],
   "source": [
    "a=[1,2,3,0,0,0]\n",
    "m=3\n",
    "b=[2,5,6]\n",
    "n=3\n",
    "a.extend()"
   ]
  },
  {
   "cell_type": "markdown",
   "id": "80284f1a",
   "metadata": {},
   "source": [
    "Решение"
   ]
  },
  {
   "cell_type": "code",
   "execution_count": null,
   "id": "ff17b85f",
   "metadata": {},
   "outputs": [
    {
     "data": {
      "text/plain": [
       "[1, 2, 2, 3, 0, 0, 0]"
      ]
     },
     "execution_count": 2,
     "metadata": {},
     "output_type": "execute_result"
    }
   ],
   "source": [
    "def merge(self, nums1: List[int], m: int, nums2: List[int], n: int) -> None:\n",
    "        # Указатели для nums1, nums2 и позиции вставки\n",
    "        i = m - 1  # последний элемент в nums1\n",
    "        j = n - 1  # последний элемент в nums2\n",
    "        k = m + n - 1  # последняя позиция в nums1\n",
    "        \n",
    "        # Идем с конца и заполняем nums1\n",
    "        while j >= 0:\n",
    "            if i >= 0 and nums1[i] > nums2[j]:\n",
    "                nums1[k] = nums1[i]\n",
    "                i -= 1\n",
    "            else:\n",
    "                nums1[k] = nums2[j]\n",
    "                j -= 1\n",
    "            k -= 1"
   ]
  },
  {
   "cell_type": "code",
   "execution_count": null,
   "id": "d76dc422",
   "metadata": {},
   "outputs": [],
   "source": []
  }
 ],
 "metadata": {
  "kernelspec": {
   "display_name": "Python 3",
   "language": "python",
   "name": "python3"
  },
  "language_info": {
   "codemirror_mode": {
    "name": "ipython",
    "version": 3
   },
   "file_extension": ".py",
   "mimetype": "text/x-python",
   "name": "python",
   "nbconvert_exporter": "python",
   "pygments_lexer": "ipython3",
   "version": "3.11.9"
  }
 },
 "nbformat": 4,
 "nbformat_minor": 5
}
