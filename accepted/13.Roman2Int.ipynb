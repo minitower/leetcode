{
 "cells": [
  {
   "cell_type": "code",
   "execution_count": null,
   "id": "40fd7750",
   "metadata": {},
   "outputs": [],
   "source": [
    "mapper = {\n",
    "    'I': 1,\n",
    "    'V': 5,\n",
    "    'X': 10,\n",
    "    'L': 50,\n",
    "    'C': 100,\n",
    "    'D': 500,\n",
    "    'M': 1000\n",
    "}\n",
    "mapper_2 = {\n",
    "    'IV': 4,\n",
    "    'IX': 9,\n",
    "    'XL': 40,\n",
    "    'XC': 90,\n",
    "    'CD': 400,\n",
    "    'CM': 900\n",
    "}\n",
    "\n",
    "class Solution(object):\n",
    "    def romanToInt(self, s):\n",
    "        \"\"\"\n",
    "        :type s: str\n",
    "        :rtype: int\n",
    "        \"\"\"\n",
    "    result = 0\n",
    "    for i in mapper_2.keys():\n",
    "        if i in s:\n",
    "            result+=mapper_2[i]\n",
    "            s = s.replace(i, '')\n",
    "    for i in s:\n",
    "        result+=mapper[i]\n",
    "    return result"
   ]
  },
  {
   "cell_type": "code",
   "execution_count": 10,
   "id": "ccf67052",
   "metadata": {},
   "outputs": [
    {
     "data": {
      "text/plain": [
       "1994"
      ]
     },
     "execution_count": 10,
     "metadata": {},
     "output_type": "execute_result"
    }
   ],
   "source": [
    "solution('MCMXCIV')"
   ]
  }
 ],
 "metadata": {
  "kernelspec": {
   "display_name": "Python 3",
   "language": "python",
   "name": "python3"
  },
  "language_info": {
   "codemirror_mode": {
    "name": "ipython",
    "version": 3
   },
   "file_extension": ".py",
   "mimetype": "text/x-python",
   "name": "python",
   "nbconvert_exporter": "python",
   "pygments_lexer": "ipython3",
   "version": "3.11.9"
  }
 },
 "nbformat": 4,
 "nbformat_minor": 5
}
