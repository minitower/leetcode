{
 "cells": [
  {
   "cell_type": "code",
   "execution_count": 3,
   "id": "b7bc98b6",
   "metadata": {},
   "outputs": [],
   "source": [
    "def lengthOfLastWord(s: str) -> int:\n",
    "    arr = s.split(' ')\n",
    "    arr_filtered=[]\n",
    "    for i in arr:\n",
    "        if len(i)>0:\n",
    "            arr_filtered.append(i)\n",
    "    return len(arr_filtered[-1])"
   ]
  },
  {
   "cell_type": "code",
   "execution_count": null,
   "id": "76e16ec4",
   "metadata": {},
   "outputs": [
    {
     "data": {
      "text/plain": [
       "6"
      ]
     },
     "execution_count": 6,
     "metadata": {},
     "output_type": "execute_result"
    }
   ],
   "source": [
    "lengthOfLastWord(\"luffy is still joyboy\")"
   ]
  },
  {
   "cell_type": "code",
   "execution_count": null,
   "id": "f038b5a2",
   "metadata": {},
   "outputs": [],
   "source": []
  }
 ],
 "metadata": {
  "kernelspec": {
   "display_name": "Python 3",
   "language": "python",
   "name": "python3"
  },
  "language_info": {
   "codemirror_mode": {
    "name": "ipython",
    "version": 3
   },
   "file_extension": ".py",
   "mimetype": "text/x-python",
   "name": "python",
   "nbconvert_exporter": "python",
   "pygments_lexer": "ipython3",
   "version": "3.11.9"
  }
 },
 "nbformat": 4,
 "nbformat_minor": 5
}
