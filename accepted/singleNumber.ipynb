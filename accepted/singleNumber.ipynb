{
 "cells": [
  {
   "cell_type": "code",
   "execution_count": null,
   "id": "d7138e05",
   "metadata": {},
   "outputs": [],
   "source": [
    "def singleNumber(nums:list) -> int:\n",
    "    dict_nums={}\n",
    "    for i in nums:\n",
    "        if i not in dict_nums.keys():\n",
    "            dict_nums.update({i: 1})\n",
    "        else:\n",
    "            dict_nums.update({i: dict_nums[i]+1})\n",
    "    for key, value in dict_nums.items():\n",
    "        if value==1:\n",
    "            return key"
   ]
  },
  {
   "cell_type": "code",
   "execution_count": 3,
   "id": "aef031c2",
   "metadata": {},
   "outputs": [
    {
     "name": "stdout",
     "output_type": "stream",
     "text": [
      "1 2\n"
     ]
    }
   ],
   "source": [
    "d = {1: 2}\n",
    "for key, value in d.items():\n",
    "    print(key, value)"
   ]
  }
 ],
 "metadata": {
  "kernelspec": {
   "display_name": "Python 3",
   "language": "python",
   "name": "python3"
  },
  "language_info": {
   "codemirror_mode": {
    "name": "ipython",
    "version": 3
   },
   "file_extension": ".py",
   "mimetype": "text/x-python",
   "name": "python",
   "nbconvert_exporter": "python",
   "pygments_lexer": "ipython3",
   "version": "3.11.9"
  }
 },
 "nbformat": 4,
 "nbformat_minor": 5
}
