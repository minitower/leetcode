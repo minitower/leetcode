{
 "cells": [
  {
   "cell_type": "code",
   "execution_count": 30,
   "id": "b3bff7c0",
   "metadata": {},
   "outputs": [],
   "source": [
    "def titleToNumber(columnTitle: str) -> int:\n",
    "    answer=0\n",
    "    for idx, char in enumerate(columnTitle[::-1]):\n",
    "        title_num = ord(char)-64\n",
    "        if idx==0:\n",
    "            answer+=title_num\n",
    "        else:\n",
    "            answer+=26**idx*title_num\n",
    "        print(answer)\n",
    "    return answer"
   ]
  },
  {
   "cell_type": "code",
   "execution_count": null,
   "id": "aeb5a6de",
   "metadata": {},
   "outputs": [],
   "source": []
  }
 ],
 "metadata": {
  "kernelspec": {
   "display_name": "Python 3",
   "language": "python",
   "name": "python3"
  },
  "language_info": {
   "codemirror_mode": {
    "name": "ipython",
    "version": 3
   },
   "file_extension": ".py",
   "mimetype": "text/x-python",
   "name": "python",
   "nbconvert_exporter": "python",
   "pygments_lexer": "ipython3",
   "version": "3.11.9"
  }
 },
 "nbformat": 4,
 "nbformat_minor": 5
}
