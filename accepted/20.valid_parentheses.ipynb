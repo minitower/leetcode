{
 "cells": [
  {
   "cell_type": "code",
   "execution_count": null,
   "id": "b947d528",
   "metadata": {},
   "outputs": [],
   "source": [
    "def isValid(s:str) -> bool:\n",
    "    stek = []\n",
    "    dictPar={')': '(', ']': '[', '}': '{'}\n",
    "    for i in s:\n",
    "        if i in (')', ']', '}') and len(stek)!=0:\n",
    "            if stek[-1]==dictPar[i]:\n",
    "                stek.pop(-1)\n",
    "                continue\n",
    "        stek.append(i)\n",
    "    if len(stek)==0:\n",
    "        return True\n",
    "    else:\n",
    "        return False"
   ]
  },
  {
   "cell_type": "code",
   "execution_count": 49,
   "id": "642ce811",
   "metadata": {},
   "outputs": [
    {
     "data": {
      "text/plain": [
       "False"
      ]
     },
     "execution_count": 49,
     "metadata": {},
     "output_type": "execute_result"
    }
   ],
   "source": [
    "isValid(\"]\")"
   ]
  },
  {
   "cell_type": "code",
   "execution_count": null,
   "id": "ff284a24",
   "metadata": {},
   "outputs": [],
   "source": []
  }
 ],
 "metadata": {
  "kernelspec": {
   "display_name": "Python 3",
   "language": "python",
   "name": "python3"
  },
  "language_info": {
   "codemirror_mode": {
    "name": "ipython",
    "version": 3
   },
   "file_extension": ".py",
   "mimetype": "text/x-python",
   "name": "python",
   "nbconvert_exporter": "python",
   "pygments_lexer": "ipython3",
   "version": "3.11.9"
  }
 },
 "nbformat": 4,
 "nbformat_minor": 5
}
