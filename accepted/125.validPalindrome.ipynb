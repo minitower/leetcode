{
 "cells": [
  {
   "cell_type": "code",
   "execution_count": null,
   "id": "6dc70235",
   "metadata": {},
   "outputs": [],
   "source": [
    "def isPalindrome(s:str) -> bool:\n",
    "    s_clear = ''\n",
    "    for i in s:\n",
    "        if (ord(i)>=65 and ord(i)<=90) \\\n",
    "            or (ord(i)>=97 and ord(i)<=122) \\\n",
    "            or (ord(i)>=48 and ord(i)<=57):\n",
    "            s_clear+=(i.lower())\n",
    "    if (s_clear==s_clear[::-1] and len(s_clear)>1) or len(s_clear)==0:\n",
    "        return True\n",
    "    else:\n",
    "        return False"
   ]
  },
  {
   "cell_type": "code",
   "execution_count": 24,
   "id": "4cc34a71",
   "metadata": {},
   "outputs": [
    {
     "name": "stdout",
     "output_type": "stream",
     "text": [
      "2\n"
     ]
    },
    {
     "data": {
      "text/plain": [
       "False"
      ]
     },
     "execution_count": 24,
     "metadata": {},
     "output_type": "execute_result"
    }
   ],
   "source": [
    "isPalindrome(s = \"0P\")"
   ]
  },
  {
   "cell_type": "code",
   "execution_count": null,
   "id": "e2564731",
   "metadata": {},
   "outputs": [],
   "source": []
  }
 ],
 "metadata": {
  "kernelspec": {
   "display_name": "Python 3",
   "language": "python",
   "name": "python3"
  },
  "language_info": {
   "codemirror_mode": {
    "name": "ipython",
    "version": 3
   },
   "file_extension": ".py",
   "mimetype": "text/x-python",
   "name": "python",
   "nbconvert_exporter": "python",
   "pygments_lexer": "ipython3",
   "version": "3.11.9"
  }
 },
 "nbformat": 4,
 "nbformat_minor": 5
}
