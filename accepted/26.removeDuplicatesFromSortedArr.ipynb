{
 "cells": [
  {
   "cell_type": "markdown",
   "id": "fc900ef7",
   "metadata": {},
   "source": [
    "# Мое решение"
   ]
  },
  {
   "cell_type": "code",
   "execution_count": 11,
   "id": "95f307cc",
   "metadata": {},
   "outputs": [],
   "source": [
    "def removeDuplicates(nums:list) -> int:\n",
    "    nums_tmp = nums.copy()\n",
    "    deltas=0\n",
    "    for idx, i in enumerate(nums_tmp):\n",
    "        if idx-deltas==0:\n",
    "            n=i\n",
    "            answer=1\n",
    "            continue\n",
    "        if i == n:\n",
    "            nums.pop(idx-deltas)\n",
    "            nums.append('_')\n",
    "            deltas+=1\n",
    "        elif i!=n:\n",
    "            n=i\n",
    "            answer+=1\n",
    "    print(nums)\n",
    "    return answer"
   ]
  },
  {
   "cell_type": "markdown",
   "id": "f8f0e794",
   "metadata": {},
   "source": [
    "# Оптимальное решение"
   ]
  },
  {
   "cell_type": "code",
   "execution_count": 13,
   "id": "287e3dd5",
   "metadata": {},
   "outputs": [],
   "source": [
    "def removeDuplicates(nums:list) -> int:\n",
    "    if not nums:\n",
    "       return 0\n",
    "   \n",
    "    k = 1  # количество уникальных элементов\n",
    "    for i in range(1, len(nums)):\n",
    "        if nums[i] != nums[i-1]:\n",
    "            nums[k] = nums[i]\n",
    "            k += 1\n",
    "    \n",
    "    return k"
   ]
  },
  {
   "cell_type": "code",
   "execution_count": null,
   "id": "2aa301a2",
   "metadata": {},
   "outputs": [],
   "source": []
  }
 ],
 "metadata": {
  "kernelspec": {
   "display_name": "Python 3",
   "language": "python",
   "name": "python3"
  },
  "language_info": {
   "codemirror_mode": {
    "name": "ipython",
    "version": 3
   },
   "file_extension": ".py",
   "mimetype": "text/x-python",
   "name": "python",
   "nbconvert_exporter": "python",
   "pygments_lexer": "ipython3",
   "version": "3.11.9"
  }
 },
 "nbformat": 4,
 "nbformat_minor": 5
}
