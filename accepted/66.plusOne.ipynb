{
 "cells": [
  {
   "cell_type": "code",
   "execution_count": null,
   "id": "0af6db89",
   "metadata": {},
   "outputs": [],
   "source": [
    "def plusOne(digits:list) -> list:\n",
    "    zeros=[]\n",
    "    while True:\n",
    "        if digits[-1]==9 and len(digits)>1:\n",
    "            zeros.append(0)\n",
    "            digits=digits[:-1]\n",
    "        elif digits[-1]==9 and len(digits)==1:\n",
    "            zeros.append(0)\n",
    "            result = [1]+zeros\n",
    "            return result\n",
    "        else:\n",
    "            digits[-1]+=1\n",
    "            return digits+zeros\n",
    "            "
   ]
  },
  {
   "cell_type": "code",
   "execution_count": 54,
   "id": "d7c13dbe",
   "metadata": {},
   "outputs": [
    {
     "name": "stdout",
     "output_type": "stream",
     "text": [
      "[9]\n"
     ]
    },
    {
     "data": {
      "text/plain": [
       "[1, 0, 0]"
      ]
     },
     "execution_count": 54,
     "metadata": {},
     "output_type": "execute_result"
    }
   ],
   "source": [
    "plusOne(digits = [9, 9])"
   ]
  },
  {
   "cell_type": "code",
   "execution_count": null,
   "id": "06e78e10",
   "metadata": {},
   "outputs": [],
   "source": []
  }
 ],
 "metadata": {
  "kernelspec": {
   "display_name": "Python 3",
   "language": "python",
   "name": "python3"
  },
  "language_info": {
   "codemirror_mode": {
    "name": "ipython",
    "version": 3
   },
   "file_extension": ".py",
   "mimetype": "text/x-python",
   "name": "python",
   "nbconvert_exporter": "python",
   "pygments_lexer": "ipython3",
   "version": "3.11.9"
  }
 },
 "nbformat": 4,
 "nbformat_minor": 5
}
