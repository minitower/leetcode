{
 "cells": [
  {
   "cell_type": "code",
   "execution_count": null,
   "id": "77338455",
   "metadata": {},
   "outputs": [],
   "source": [
    "def strStr(haystack:str, needle:str) -> int:\n",
    "    if not needle:\n",
    "        return 0\n",
    "    \n",
    "    n = len(haystack)\n",
    "    m = len(needle)\n",
    "    \n",
    "    i = 0\n",
    "    while i <= n - m:\n",
    "        if haystack[i] == needle[0]:\n",
    "            j = 0\n",
    "            start = i\n",
    "            # Проверяем полное совпадение\n",
    "            while j < m and i < n and haystack[i] == needle[j]:\n",
    "                i += 1\n",
    "                j += 1\n",
    "            \n",
    "            if j == m:  # если нашли полное совпадение\n",
    "                return start\n",
    "            else:  # если совпадение неполное\n",
    "                i = start + 1  # возвращаемся к следующему символу после start\n",
    "        else:\n",
    "            i += 1\n",
    "    \n",
    "    return -1"
   ]
  },
  {
   "cell_type": "code",
   "execution_count": 69,
   "id": "52658e59",
   "metadata": {},
   "outputs": [
    {
     "name": "stdout",
     "output_type": "stream",
     "text": [
      "start -1\n",
      "mississippi\n",
      "change -1\n",
      "change k 1\n",
      "False\n",
      "change 1\n",
      "change k 2\n",
      "False\n",
      "change 1\n",
      "change k 3\n",
      "False\n",
      "change 1\n",
      "change k 4\n",
      "False\n",
      "res 1\n",
      "start -1\n",
      "ssissippi\n",
      "change -1\n",
      "change k 1\n",
      "False\n",
      "change 2\n",
      "change k 2\n",
      "False\n",
      "change 2\n",
      "change k 3\n",
      "False\n",
      "change 2\n",
      "change k 4\n",
      "False\n",
      "change 2\n",
      "change k 5\n",
      "True\n",
      "res 1\n",
      "start -1\n",
      "ssissippi\n",
      "change -1\n",
      "change k 1\n",
      "False\n",
      "change 2\n",
      "change k 2\n",
      "False\n",
      "change 2\n",
      "change k 3\n",
      "False\n",
      "change 2\n",
      "change k 4\n",
      "False\n",
      "change 2\n",
      "change k 5\n",
      "True\n",
      "res 1\n",
      "start -1\n",
      "ssissippi\n",
      "change -1\n",
      "change k 1\n",
      "False\n",
      "change 2\n",
      "change k 2\n",
      "False\n",
      "change 2\n",
      "change k 3\n",
      "False\n",
      "change 2\n",
      "change k 4\n",
      "False\n",
      "change 2\n",
      "change k 5\n",
      "True\n",
      "change 1\n",
      "change k 5\n",
      "True\n"
     ]
    },
    {
     "data": {
      "text/plain": [
       "1"
      ]
     },
     "execution_count": 69,
     "metadata": {},
     "output_type": "execute_result"
    }
   ],
   "source": [
    "strStr(\"mississippi\", \"issip\")"
   ]
  },
  {
   "cell_type": "code",
   "execution_count": null,
   "id": "52a91875",
   "metadata": {},
   "outputs": [],
   "source": []
  }
 ],
 "metadata": {
  "kernelspec": {
   "display_name": "Python 3",
   "language": "python",
   "name": "python3"
  },
  "language_info": {
   "codemirror_mode": {
    "name": "ipython",
    "version": 3
   },
   "file_extension": ".py",
   "mimetype": "text/x-python",
   "name": "python",
   "nbconvert_exporter": "python",
   "pygments_lexer": "ipython3",
   "version": "3.11.9"
  }
 },
 "nbformat": 4,
 "nbformat_minor": 5
}
