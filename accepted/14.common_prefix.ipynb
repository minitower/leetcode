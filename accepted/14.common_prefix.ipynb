{
 "cells": [
  {
   "cell_type": "markdown",
   "id": "d70bde71",
   "metadata": {},
   "source": [
    "# My solution"
   ]
  },
  {
   "cell_type": "code",
   "execution_count": null,
   "id": "cadc8795",
   "metadata": {},
   "outputs": [],
   "source": [
    "def longestCommonPrefix(strs: list) -> str:\n",
    "    if len(strs)==0:\n",
    "        return \"\"\n",
    "    min_len = min(len(s) for s in strs)\n",
    "    answer=\"\"\n",
    "    for i in range(min_len):\n",
    "        char = strs[0][i]\n",
    "        for s in strs:\n",
    "            if s[i]!=char:\n",
    "                return answer\n",
    "        answer+=char\n",
    "    return answer"
   ]
  },
  {
   "cell_type": "markdown",
   "id": "62445541",
   "metadata": {},
   "source": [
    "# Better solution"
   ]
  },
  {
   "cell_type": "code",
   "execution_count": null,
   "id": "ea669151",
   "metadata": {},
   "outputs": [
    {
     "data": {
      "text/plain": [
       "''"
      ]
     },
     "execution_count": 29,
     "metadata": {},
     "output_type": "execute_result"
    }
   ],
   "source": [
    "def longestCommonPrefix(strs: list) -> str:\n",
    "    if not strs:\n",
    "        return \"\"\n",
    "    \n",
    "    # Сортируем строки - общий префикс будет между первой и последней\n",
    "    strs.sort()\n",
    "    \n",
    "    first = strs[0]\n",
    "    last = strs[-1]\n",
    "    \n",
    "    answer = \"\"\n",
    "    for i in range(min(len(first), len(last))):\n",
    "        if first[i] == last[i]:\n",
    "            answer += first[i]\n",
    "        else:\n",
    "            break\n",
    "    \n",
    "    return answer"
   ]
  },
  {
   "cell_type": "code",
   "execution_count": null,
   "id": "9f114a9e",
   "metadata": {},
   "outputs": [],
   "source": []
  }
 ],
 "metadata": {
  "kernelspec": {
   "display_name": "Python 3",
   "language": "python",
   "name": "python3"
  },
  "language_info": {
   "codemirror_mode": {
    "name": "ipython",
    "version": 3
   },
   "file_extension": ".py",
   "mimetype": "text/x-python",
   "name": "python",
   "nbconvert_exporter": "python",
   "pygments_lexer": "ipython3",
   "version": "3.11.9"
  }
 },
 "nbformat": 4,
 "nbformat_minor": 5
}
