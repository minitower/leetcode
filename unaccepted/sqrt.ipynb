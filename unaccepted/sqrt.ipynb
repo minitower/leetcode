{
 "cells": [
  {
   "cell_type": "code",
   "execution_count": null,
   "id": "55f7f74d",
   "metadata": {},
   "outputs": [],
   "source": [
    "def mySqrt(x:int) -> int:\n",
    "    digits=[]\n",
    "    str_x = str(x)\n",
    "    for i in range(int(len(str_x)/2)):\n",
    "        digits.append(str_x[i*2+1])\n",
    "    print(digits)"
   ]
  },
  {
   "cell_type": "code",
   "execution_count": 12,
   "id": "7a195985",
   "metadata": {},
   "outputs": [
    {
     "name": "stdout",
     "output_type": "stream",
     "text": [
      "['0', '0', '0']\n"
     ]
    }
   ],
   "source": [
    "mySqrt(101010)"
   ]
  },
  {
   "cell_type": "code",
   "execution_count": null,
   "id": "76757df5",
   "metadata": {},
   "outputs": [],
   "source": []
  }
 ],
 "metadata": {
  "kernelspec": {
   "display_name": "Python 3",
   "language": "python",
   "name": "python3"
  },
  "language_info": {
   "codemirror_mode": {
    "name": "ipython",
    "version": 3
   },
   "file_extension": ".py",
   "mimetype": "text/x-python",
   "name": "python",
   "nbconvert_exporter": "python",
   "pygments_lexer": "ipython3",
   "version": "3.11.9"
  }
 },
 "nbformat": 4,
 "nbformat_minor": 5
}
