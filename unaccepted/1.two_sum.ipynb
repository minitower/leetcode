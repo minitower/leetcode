{
 "cells": [
  {
   "cell_type": "markdown",
   "id": "55d6c35f",
   "metadata": {},
   "source": [
    "# 1 Solution"
   ]
  },
  {
   "cell_type": "code",
   "execution_count": 48,
   "id": "51333f8f",
   "metadata": {},
   "outputs": [],
   "source": [
    "class Solution(object):\n",
    "    def twoSum(self, nums:list, target:int) -> list:\n",
    "        \"\"\"\n",
    "        :type nums: List[int]\n",
    "        :type target: int\n",
    "        :rtype: List[int]\n",
    "        \"\"\"\n",
    "        for i in nums:\n",
    "            search = target-i\n",
    "            nums_copy = nums.copy()\n",
    "            nums_copy.remove(i)\n",
    "            if search in nums_copy:\n",
    "                return [nums.index(i), nums_copy.index(search)+1]\n",
    "            else:\n",
    "                Solution.twoSum('', nums[1:len(nums)], target)\n",
    "        "
   ]
  },
  {
   "cell_type": "code",
   "execution_count": 49,
   "id": "8595986b",
   "metadata": {},
   "outputs": [
    {
     "data": {
      "text/plain": [
       "[1, 2]"
      ]
     },
     "execution_count": 49,
     "metadata": {},
     "output_type": "execute_result"
    }
   ],
   "source": [
    "Solution.twoSum('', [3,2,4], 6)"
   ]
  },
  {
   "cell_type": "markdown",
   "id": "a1009055",
   "metadata": {},
   "source": [
    "Failed: time limit"
   ]
  },
  {
   "cell_type": "markdown",
   "id": "ee8eb0ba",
   "metadata": {},
   "source": [
    "# Solution 2"
   ]
  },
  {
   "cell_type": "code",
   "execution_count": null,
   "id": "3be0f586",
   "metadata": {},
   "outputs": [
    {
     "ename": "SyntaxError",
     "evalue": "incomplete input (3738512864.py, line 8)",
     "output_type": "error",
     "traceback": [
      "\u001b[1;36m  Cell \u001b[1;32mIn[50], line 8\u001b[1;36m\u001b[0m\n\u001b[1;33m    for i in range(len(nums)-1):\u001b[0m\n\u001b[1;37m                                ^\u001b[0m\n\u001b[1;31mSyntaxError\u001b[0m\u001b[1;31m:\u001b[0m incomplete input\n"
     ]
    }
   ],
   "source": [
    "class Solution(object):\n",
    "    def twoSum(self, nums:list, target:int) -> list:\n",
    "        \"\"\"\n",
    "        :type nums: List[int]\n",
    "        :type target: int\n",
    "        :rtype: List[int]\n",
    "        \"\"\"\n",
    "        ordered = nums.copy()\n",
    "        ordered.sort()\n",
    "        for i in range(len(nums)-1):\n",
    "            if ordered[i]+ordered[i+1]>=target:\n",
    "                "
   ]
  },
  {
   "cell_type": "code",
   "execution_count": null,
   "id": "040a5841",
   "metadata": {},
   "outputs": [],
   "source": []
  }
 ],
 "metadata": {
  "kernelspec": {
   "display_name": "Python 3",
   "language": "python",
   "name": "python3"
  },
  "language_info": {
   "codemirror_mode": {
    "name": "ipython",
    "version": 3
   },
   "file_extension": ".py",
   "mimetype": "text/x-python",
   "name": "python",
   "nbconvert_exporter": "python",
   "pygments_lexer": "ipython3",
   "version": "3.11.9"
  }
 },
 "nbformat": 4,
 "nbformat_minor": 5
}
